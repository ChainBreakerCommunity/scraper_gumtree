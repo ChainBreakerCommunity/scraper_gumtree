{
 "cells": [
  {
   "cell_type": "code",
   "execution_count": 1,
   "metadata": {},
   "outputs": [],
   "source": [
    "from selenium import webdriver\n",
    "from selenium.webdriver import Chrome\n",
    "from selenium.webdriver.support.ui import WebDriverWait\n",
    "from selenium.webdriver.common.by import By\n",
    "from selenium.webdriver.support import expected_conditions as EC\n"
   ]
  },
  {
   "cell_type": "code",
   "execution_count": 7,
   "metadata": {},
   "outputs": [
    {
     "name": "stderr",
     "output_type": "stream",
     "text": [
      "C:\\Users\\juanc\\AppData\\Local\\Temp\\ipykernel_9668\\3278633609.py:1: DeprecationWarning: executable_path has been deprecated, please pass in a Service object\n",
      "  driver = webdriver.Chrome(executable_path=\"../chromedriver.exe\")\n"
     ]
    }
   ],
   "source": [
    "driver = webdriver.Chrome(executable_path=\"../chromedriver.exe\")"
   ]
  },
  {
   "cell_type": "code",
   "execution_count": 8,
   "metadata": {},
   "outputs": [],
   "source": [
    "driver.execute_script(\"Object.defineProperty(navigator, 'webdriver', {get: () => undefined})\")"
   ]
  },
  {
   "cell_type": "code",
   "execution_count": 23,
   "metadata": {},
   "outputs": [
    {
     "name": "stderr",
     "output_type": "stream",
     "text": [
      "C:\\Users\\juanc\\AppData\\Local\\Temp\\ipykernel_9668\\788958341.py:15: DeprecationWarning: executable_path has been deprecated, please pass in a Service object\n",
      "  driver = webdriver.Chrome(executable_path='../chromedriver.exe',options=option)\n"
     ]
    }
   ],
   "source": [
    "option = webdriver.ChromeOptions()\n",
    "\n",
    "\n",
    "#Removes navigator.webdriver flag\n",
    "\n",
    "# For older ChromeDriver under version 79.0.3945.16\n",
    "option.add_experimental_option(\"excludeSwitches\", [\"enable-automation\"])\n",
    "option.add_experimental_option('useAutomationExtension', False)\n",
    "\n",
    "#For ChromeDriver version 79.0.3945.16 or over\n",
    "option.add_argument('--disable-blink-features=AutomationControlled')\n",
    "\n",
    "\n",
    "#Open Browser\n",
    "driver = webdriver.Chrome(executable_path='../chromedriver.exe',options=option)"
   ]
  },
  {
   "cell_type": "code",
   "execution_count": 31,
   "metadata": {},
   "outputs": [],
   "source": [
    "SITE = \"https://www.gumtree.com/massage-services/uk/chinese\"\n",
    "driver.get(SITE)"
   ]
  },
  {
   "cell_type": "code",
   "execution_count": 27,
   "metadata": {},
   "outputs": [],
   "source": [
    "accept_button = driver.find_element(By.ID, \"onetrust-accept-btn-handler\")"
   ]
  },
  {
   "cell_type": "code",
   "execution_count": 28,
   "metadata": {},
   "outputs": [],
   "source": [
    "accept_button.click()"
   ]
  },
  {
   "cell_type": "markdown",
   "metadata": {},
   "source": []
  },
  {
   "cell_type": "code",
   "execution_count": 24,
   "metadata": {},
   "outputs": [],
   "source": [
    "driver.get(\"https://my.gumtree.com/login\")"
   ]
  },
  {
   "cell_type": "markdown",
   "metadata": {},
   "source": []
  },
  {
   "cell_type": "code",
   "execution_count": 25,
   "metadata": {},
   "outputs": [],
   "source": [
    "EMAIL = \"chainbreakerinfo@gmail.com\"\n",
    "PASSWORD = \"U#3G3agS1BJp\""
   ]
  },
  {
   "cell_type": "code",
   "execution_count": 26,
   "metadata": {},
   "outputs": [],
   "source": [
    "email_input = driver.find_element(By.ID, \"email\")\n",
    "password_input = driver.find_element(By.ID, \"fld-password\")"
   ]
  },
  {
   "cell_type": "code",
   "execution_count": 29,
   "metadata": {},
   "outputs": [],
   "source": [
    "email_input.send_keys(EMAIL)\n",
    "password_input.send_keys(PASSWORD)"
   ]
  },
  {
   "cell_type": "code",
   "execution_count": 30,
   "metadata": {},
   "outputs": [],
   "source": [
    "login_button = driver.find_elements(By.TAG_NAME, \"button\")\n",
    "for b in login_button:\n",
    "    if b.text == \"Login\":\n",
    "        b.click()\n",
    "        break"
   ]
  },
  {
   "cell_type": "code",
   "execution_count": 33,
   "metadata": {},
   "outputs": [],
   "source": [
    "ads = driver.find_elements(By.CLASS_NAME, \"listing-link\")"
   ]
  },
  {
   "cell_type": "code",
   "execution_count": 34,
   "metadata": {},
   "outputs": [
    {
     "name": "stdout",
     "output_type": "stream",
     "text": [
      "https://www.gumtree.com/p/other-massage-services/-new-chinese-masseuse-offer-professional-massage-/1424999917\n"
     ]
    }
   ],
   "source": [
    "#ads = driver.find_elements(By.CLASS_NAME, \"listing-link\")\n",
    "for ad in ads:\n",
    "    link = ad.get_attribute(\"href\")\n",
    "    print(link)\n",
    "    break"
   ]
  },
  {
   "cell_type": "code",
   "execution_count": 35,
   "metadata": {},
   "outputs": [],
   "source": [
    "driver.get(link)"
   ]
  },
  {
   "cell_type": "code",
   "execution_count": 58,
   "metadata": {},
   "outputs": [],
   "source": [
    "def getPhone(driver: Chrome):\n",
    "    # Click all reveal buttons until it works.\n",
    "    reveal_buttons = driver.find_elements(By.CLASS_NAME, \"reveal-button\")\n",
    "    for button in reveal_buttons:\n",
    "        try:\n",
    "            button.click()\n",
    "        except:\n",
    "            pass\n",
    "    \n",
    "    # Wait a second.\n",
    "    import time\n",
    "    time.sleep(1)\n",
    "\n",
    "    # Get all class names with phone number title\n",
    "    numbers = driver.find_elements(By.CLASS_NAME, \"seller-phone-number-title\")\n",
    "    for n in numbers:\n",
    "        if len(n.text) > 0:\n",
    "            phonenumber = n.text\n",
    "    return phonenumber"
   ]
  },
  {
   "cell_type": "code",
   "execution_count": 59,
   "metadata": {},
   "outputs": [
    {
     "data": {
      "text/plain": [
       "'07378106363'"
      ]
     },
     "execution_count": 59,
     "metadata": {},
     "output_type": "execute_result"
    }
   ],
   "source": [
    "getPhone(driver)"
   ]
  },
  {
   "cell_type": "code",
   "execution_count": 60,
   "metadata": {},
   "outputs": [],
   "source": [
    "def getExternalWebsite(driver: Chrome):\n",
    "    links = driver.find_elements(By.CLASS_NAME, \"link\")\n",
    "    for l in links:\n",
    "        if l.get_attribute(\"data-q\") == \"seller-websiteUrl\":\n",
    "            return l.get_attribute(\"href\")\n",
    "    return \"\""
   ]
  },
  {
   "cell_type": "code",
   "execution_count": 61,
   "metadata": {},
   "outputs": [
    {
     "data": {
      "text/plain": [
       "'https://www.orientaltherapychinesemassage.co.uk/'"
      ]
     },
     "execution_count": 61,
     "metadata": {},
     "output_type": "execute_result"
    }
   ],
   "source": [
    "getExternalWebsite(driver)"
   ]
  },
  {
   "cell_type": "code",
   "execution_count": 64,
   "metadata": {},
   "outputs": [],
   "source": [
    "def getTitle(driver: Chrome):\n",
    "    title = driver.find_element(By.TAG_NAME, \"h1\")\n",
    "    return title.text\n"
   ]
  },
  {
   "cell_type": "code",
   "execution_count": 65,
   "metadata": {},
   "outputs": [
    {
     "data": {
      "text/plain": [
       "'🌟New Chinese Masseuse Offer Professional massage'"
      ]
     },
     "execution_count": 65,
     "metadata": {},
     "output_type": "execute_result"
    }
   ],
   "source": [
    "getTitle(driver)"
   ]
  },
  {
   "cell_type": "code",
   "execution_count": 72,
   "metadata": {},
   "outputs": [],
   "source": [
    "def getText(driver: Chrome):\n",
    "    p_tags = driver.find_elements(By.TAG_NAME, \"P\")\n",
    "    for p in p_tags:\n",
    "        if p.get_attribute(\"itemprop\") == \"description\":\n",
    "            return p.text.replace(\"\\n\", \" \")"
   ]
  },
  {
   "cell_type": "code",
   "execution_count": 73,
   "metadata": {},
   "outputs": [
    {
     "data": {
      "text/plain": [
       "'Welcome Oriental Massage Centre: 35 St. Augustines street. NR3 3BY _07378106363  This week New Slim masseuse Amy provide great, affordable massages in a clean and relaxing environment.  Chinese traditional massage  Thai & Korean style massage  Chinese oil massage  Shoulder Neck & Head Massage  Full Body Massage  Relaxation Massage  Reflexology   Ladies and Gentlemen welcome , No Sexual service.  Our Price :  Full body massage : half hour ￡30 one hour ￡45 .  4hands full body massage: half hour ￡60 one hour ￡90 .  We are open daily from 9:00am to 9:00pm Monday to Sunday  Please call for booking or just turn up. Thank you.xx'"
      ]
     },
     "execution_count": 73,
     "metadata": {},
     "output_type": "execute_result"
    }
   ],
   "source": [
    "getText(driver)"
   ]
  },
  {
   "cell_type": "code",
   "execution_count": null,
   "metadata": {},
   "outputs": [],
   "source": [
    "def getLocation():\n",
    "    return"
   ]
  },
  {
   "cell_type": "code",
   "execution_count": 80,
   "metadata": {},
   "outputs": [],
   "source": [
    "def getId(link):\n",
    "    import re\n",
    "    m = re.search(\"/[0-9]+\", link)\n",
    "    return m.group(0)[1:]"
   ]
  },
  {
   "cell_type": "code",
   "execution_count": 86,
   "metadata": {},
   "outputs": [
    {
     "data": {
      "text/plain": [
       "'1424999917'"
      ]
     },
     "execution_count": 86,
     "metadata": {},
     "output_type": "execute_result"
    }
   ],
   "source": [
    "getId(driver.current_url)"
   ]
  },
  {
   "cell_type": "code",
   "execution_count": 85,
   "metadata": {},
   "outputs": [
    {
     "data": {
      "text/plain": [
       "'1424999917'"
      ]
     },
     "execution_count": 85,
     "metadata": {},
     "output_type": "execute_result"
    }
   ],
   "source": [
    "import re\n",
    "m = re.search(\"/[0-9]+\", driver.current_url)\n",
    "m.group(0)[1:]"
   ]
  },
  {
   "cell_type": "code",
   "execution_count": 83,
   "metadata": {},
   "outputs": [
    {
     "data": {
      "text/plain": [
       "'https://www.gumtree.com/p/other-massage-services/-new-chinese-masseuse-offer-professional-massage-/1424999917'"
      ]
     },
     "execution_count": 83,
     "metadata": {},
     "output_type": "execute_result"
    }
   ],
   "source": [
    "driver.current_url"
   ]
  },
  {
   "cell_type": "code",
   "execution_count": 79,
   "metadata": {},
   "outputs": [],
   "source": [
    "driver.get('https://www.gumtree.com/p/other-massage-services/-new-chinese-masseuse-offer-professional-massage-/1424999917')"
   ]
  },
  {
   "cell_type": "code",
   "execution_count": 23,
   "metadata": {},
   "outputs": [],
   "source": [
    "def getTitle():\n",
    "    title = driver.find_element(By.TAG_NAME, \"h1\")\n",
    "    return title.text"
   ]
  },
  {
   "cell_type": "code",
   "execution_count": 24,
   "metadata": {},
   "outputs": [
    {
     "data": {
      "text/plain": [
       "'Japanese/Chinese Full Body Massage(new Masseuses)'"
      ]
     },
     "execution_count": 24,
     "metadata": {},
     "output_type": "execute_result"
    }
   ],
   "source": [
    "getTitle()"
   ]
  },
  {
   "cell_type": "code",
   "execution_count": 92,
   "metadata": {},
   "outputs": [],
   "source": [
    "def getLocation(driver: Chrome):\n",
    "    locations = driver.find_elements(By.TAG_NAME, \"h4\")\n",
    "    for l in locations:\n",
    "        if l.get_attribute(\"itemprop\") == \"addressLocality\":\n",
    "            values = l.text.split()\n",
    "            region = values[1]\n",
    "            city = values[0]\n",
    "            return region, city, \"\"\n"
   ]
  },
  {
   "cell_type": "code",
   "execution_count": 93,
   "metadata": {},
   "outputs": [
    {
     "data": {
      "text/plain": [
       "('Norfolk', 'Norwich,', '')"
      ]
     },
     "execution_count": 93,
     "metadata": {},
     "output_type": "execute_result"
    }
   ],
   "source": [
    "getLocation(driver)"
   ]
  },
  {
   "cell_type": "code",
   "execution_count": 89,
   "metadata": {},
   "outputs": [
    {
     "data": {
      "text/plain": [
       "['ab']"
      ]
     },
     "execution_count": 89,
     "metadata": {},
     "output_type": "execute_result"
    }
   ],
   "source": [
    "string = \"ab\"\n",
    "string.split(\" \")\n"
   ]
  },
  {
   "cell_type": "code",
   "execution_count": 96,
   "metadata": {},
   "outputs": [],
   "source": [
    "import datetime"
   ]
  },
  {
   "cell_type": "code",
   "execution_count": 97,
   "metadata": {},
   "outputs": [],
   "source": [
    "def getDateScrape() -> datetime.datetime:\n",
    "    return datetime.date.today()\n"
   ]
  },
  {
   "cell_type": "code",
   "execution_count": 107,
   "metadata": {},
   "outputs": [],
   "source": [
    "def getPostDate(driver: Chrome):\n",
    "    dds = driver.find_elements(By.TAG_NAME, \"dd\")\n",
    "    for dd in dds:\n",
    "        if dd.get_attribute(\"data-testid\") == \"attribute-value\":\n",
    "            string = dd.text\n",
    "            if string == \"Just now\" or \"hours\" in string:\n",
    "                return datetime.date.today()\n",
    "            elif \"days\" in string:\n",
    "                days = int(string.split(\" \")[0])\n",
    "                tod = datetime.datetime.today()\n",
    "                d = datetime.timedelta(days = days)\n",
    "                return tod - d\n",
    "            return getDateScrape()"
   ]
  },
  {
   "cell_type": "code",
   "execution_count": 109,
   "metadata": {},
   "outputs": [
    {
     "data": {
      "text/plain": [
       "datetime.date(2022, 7, 17)"
      ]
     },
     "execution_count": 109,
     "metadata": {},
     "output_type": "execute_result"
    }
   ],
   "source": [
    "getPostDate(driver)"
   ]
  },
  {
   "cell_type": "markdown",
   "metadata": {},
   "source": []
  },
  {
   "cell_type": "code",
   "execution_count": 110,
   "metadata": {},
   "outputs": [
    {
     "data": {
      "text/plain": [
       "'https://www.gumtree.com/massage-services/uk/chinese'"
      ]
     },
     "execution_count": 110,
     "metadata": {},
     "output_type": "execute_result"
    }
   ],
   "source": [
    "driver.current_url"
   ]
  },
  {
   "cell_type": "code",
   "execution_count": 111,
   "metadata": {},
   "outputs": [
    {
     "name": "stdout",
     "output_type": "stream",
     "text": [
      "https://www.gumtree.com/p/other-massage-services/chinese-massage/1420238336\n"
     ]
    }
   ],
   "source": [
    "ads = driver.find_elements(By.CLASS_NAME, \"listing-link\")\n",
    "for ad in ads:\n",
    "    link = ad.get_attribute(\"href\")\n",
    "    print(link)\n",
    "    break"
   ]
  },
  {
   "cell_type": "code",
   "execution_count": 117,
   "metadata": {},
   "outputs": [
    {
     "data": {
      "text/plain": [
       "<selenium.webdriver.remote.webelement.WebElement (session=\"b1ee28396fdc5e2fb856a332c7d49a6c\", element=\"60aed025-c8fd-4a44-9d96-ee421cf38819\")>"
      ]
     },
     "execution_count": 117,
     "metadata": {},
     "output_type": "execute_result"
    }
   ],
   "source": [
    "ad.find_element(By.CLASS_NAME, \"ribbon-featured\")"
   ]
  },
  {
   "cell_type": "code",
   "execution_count": 116,
   "metadata": {},
   "outputs": [],
   "source": [
    "ad = ads[0]"
   ]
  },
  {
   "cell_type": "code",
   "execution_count": null,
   "metadata": {},
   "outputs": [],
   "source": []
  }
 ],
 "metadata": {
  "kernelspec": {
   "display_name": "Python 3.9.12 ('env': venv)",
   "language": "python",
   "name": "python3"
  },
  "language_info": {
   "codemirror_mode": {
    "name": "ipython",
    "version": 3
   },
   "file_extension": ".py",
   "mimetype": "text/x-python",
   "name": "python",
   "nbconvert_exporter": "python",
   "pygments_lexer": "ipython3",
   "version": "3.9.12"
  },
  "orig_nbformat": 4,
  "vscode": {
   "interpreter": {
    "hash": "c04a124d4e10ebb66209c68fecf0a743782edb3c82ad2fa897189fb1c0a01509"
   }
  }
 },
 "nbformat": 4,
 "nbformat_minor": 2
}
